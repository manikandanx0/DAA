{
  "nbformat": 4,
  "nbformat_minor": 0,
  "metadata": {
    "colab": {
      "provenance": [],
      "authorship_tag": "ABX9TyNfZdzWd2wxFcF8ppOC2Fmr"
    },
    "kernelspec": {
      "name": "python3",
      "display_name": "Python 3"
    },
    "language_info": {
      "name": "python"
    }
  },
  "cells": [
    {
      "cell_type": "markdown",
      "source": [
        "\n",
        "\n",
        "K.Kalyani. \"Tamilnadu Electricity Board Hourly Readings,\" UCI Machine Learning Repository, 2013. [Online]. Available: https://doi.org/10.24432/C5KP4K."
      ],
      "metadata": {
        "id": "qHLHUZiQLZlD"
      }
    },
    {
      "cell_type": "code",
      "execution_count": 3,
      "metadata": {
        "id": "gvIM0jByLSMf"
      },
      "outputs": [],
      "source": [
        "import pandas as pd\n",
        "import numpy as np\n",
        "from scipy.io import arff"
      ]
    },
    {
      "cell_type": "code",
      "source": [],
      "metadata": {
        "id": "OL--tysDNA4D"
      },
      "execution_count": null,
      "outputs": []
    },
    {
      "cell_type": "code",
      "source": [
        "from google.colab import drive\n",
        "drive.mount('/content/drive')"
      ],
      "metadata": {
        "id": "e_KDPw9XNSkI"
      },
      "execution_count": null,
      "outputs": []
    }
  ]
}